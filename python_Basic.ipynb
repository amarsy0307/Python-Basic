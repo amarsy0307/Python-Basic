{
  "nbformat": 4,
  "nbformat_minor": 0,
  "metadata": {
    "colab": {
      "provenance": []
    },
    "kernelspec": {
      "name": "python3",
      "display_name": "Python 3"
    },
    "language_info": {
      "name": "python"
    }
  },
  "cells": [
    {
      "cell_type": "markdown",
      "source": [
        "## ***Assingment ***"
      ],
      "metadata": {
        "id": "yqLcpc9FNgP_"
      }
    },
    {
      "cell_type": "markdown",
      "source": [
        "Question1:- What is Python and why is it popular?\n",
        "\n",
        "Answer:- Python is a high-level, general-purpose programming language known for its readability and simplicity. It was created by Guido van Rossum and first released in 1991. Python emphasizes code readability with its use of significant indentation and clean syntax, making it a great choice for beginners as well as professionals.\n",
        "\n",
        "=> It is polpular for several reasons:-\n",
        "1.Easy to Learn and Use\n",
        "-Clear, English-like syntax.\n",
        "-Less boilerplate code compared to other languages like Java or C++.\n",
        "\n",
        "2.Versatile and General-Purpose\n",
        "-Used for web development, data science, automation, AI, scientific computing, scripting, and more.\n",
        "\n",
        "3.Extensive Libraries and Frameworks\n",
        "Examples:\n",
        "Web Development: Django, Flask\n",
        "Data Science/AI: NumPy, Pandas, TensorFlow, PyTorch\n",
        "Automation: Selenium, PyAutoGUI\n",
        "\n",
        "4.Strong Community Support\n",
        "-Massive global community = more tutorials, forums, open-source contributions, and help.\n",
        "\n",
        "5.Cross-Platform\n",
        "-Works on Windows, macOS, and Linux without needing major changes.\n",
        "\n",
        "6.Great for Prototyping\n",
        "-Rapid development and testing cycles make it ideal for startups and agile teams.\n",
        "\n",
        "7.Used by Big Companies\n",
        "-Companies like Google, Netflix, Spotify, and Instagram use Python in various capacities."
      ],
      "metadata": {
        "id": "iRGAZsSCNiec"
      }
    },
    {
      "cell_type": "markdown",
      "source": [
        "Question:2:> What is Interpreter in Python?\n",
        "\n",
        "Answer:> An interpreter in Python is a program that reads and executes Python code line by line. Unlike compiled languages (like C or Java, which are turned into machine code before they run), Python code is interpreted at runtime.\n",
        "\n",
        "-It write Python code in a .py file.\n",
        "-The Python interpreter reads each line one at a time.\n",
        "-It translates the code into bytecode, an intermediate form.\n",
        "-The bytecode is executed by the Python Virtual Machine (PVM).\n",
        "\n"
      ],
      "metadata": {
        "id": "wCuzOwN-Pl8G"
      }
    },
    {
      "cell_type": "markdown",
      "source": [
        "Question:3:> What are pre-defined keywords in Python?\n",
        "\n",
        "Answer:> Pre-defined keywords in Python are reserved words that have special meaning to the Python interpreter. You cannot use them as variable names, function names, or identifiers, because they are part of the syntax and structure of the Python language.\n",
        "\n",
        "Here are some commonly used Python keywords:\n",
        "\n",
        "Keyword\t                                     Description\n",
        "if, else, elif\t                        Conditional statements\n",
        "for, while, break, continue\t                Loop control\n",
        "def, return\t                            Function definitions\n",
        "class, pass\t                              Class definitions\n",
        "import, from, as\t                        Module handling\n",
        "try, except, finally, raise\t            Exception handling\n",
        "True, False, None\t                     Boolean values and null\n",
        "and, or, not\t                            Logical operators\n",
        "in, is\t                            Membership and identity checks\n",
        "global, nonlocal\t                     Variable scope modifiers\n",
        "with, lambda, yield\t               Context management and generators\n",
        "\n",
        "You can get a list of all keywords using the keyword\n",
        "=> print(keyword.kwlist)\n",
        "\n",
        "Important Notes\n",
        "-Keywords are case-sensitive (True is valid, true is not).\n",
        "-You cannot redefine or use them for other purposes."
      ],
      "metadata": {
        "id": "bVdjcU1-RbMD"
      }
    },
    {
      "cell_type": "markdown",
      "source": [
        "Question:4:> Can keywords be used as variable name?\n",
        "\n",
        "Answer:> No, keywords cannot be used as variable names in Python.\n",
        "\n",
        "Keywords are reserved words that Python uses to define its syntax and structure (like if, for, class, return, etc.). Using them as variable names will result in a SyntaxError."
      ],
      "metadata": {
        "id": "QUj9avWhTMh2"
      }
    },
    {
      "cell_type": "markdown",
      "source": [
        "Question:5:> What is mutability in Python?\n",
        "\n",
        "Answer:> In Python, mutability refers to whether an object's state or content can be changed after it has been created.\n",
        "\n",
        "Mutable Objects: These are objects whose values or contents can be modified in place after they are initialized. When you modify a mutable object, you are not creating a new object; you are changing the existing one.\n",
        "\n",
        "Examples of mutable data types in Python include:\n",
        "-Lists: Elements can be added, removed, or changed.\n",
        "-Dictionaries: Key-value pairs can be added, removed, or updated.\n",
        "-Sets: Elements can be added or removed."
      ],
      "metadata": {
        "id": "2mjhcPazTzQh"
      }
    },
    {
      "cell_type": "markdown",
      "source": [
        "Question:6:> Why are lists mutable, but tuples are immutable?\n",
        "\n",
        "Answer:> The difference in mutability between lists and tuples in Python is by design, based on their intended use cases and performance trade-offs.\n",
        "\n",
        "Why Lists Are Mutable:-\n",
        "Purpose: Lists are built to hold dynamic collections — they’re meant for situations where you add, remove, or change data.\n",
        "\n",
        "Key Reasons:\n",
        "Flexibility: Allows modifying, appending, or deleting elements.\n",
        "\n",
        "Use Case: Ideal for tasks like managing to-do lists, growing datasets, or dynamic inputs.\n",
        "\n",
        "Implementation: Backed by a resizable array in memory, which is designed to change.\n",
        "\n",
        " Why Tuples Are Immutable:-\n",
        " Purpose: Tuples are designed to represent fixed collections of values — things that shouldn't change once created.\n",
        "\n",
        "Key Reasons:\n",
        "Data Integrity: Once a tuple is created, its contents remain constant. This makes it safer for constant or configuration data.\n",
        "\n",
        "Hashability: Tuples can be used as keys in dictionaries and elements in sets (only if all elements inside are also immutable) — this is only possible because they are immutable.\n",
        "\n",
        "Performance: Python can optimize memory and access speed for immutable objects.\n",
        "\n",
        "Thread-Safety: Immutable objects can be shared across threads without risk of data being modified."
      ],
      "metadata": {
        "id": "sPKVF_eWWFxv"
      }
    },
    {
      "cell_type": "markdown",
      "source": [
        "Question:7:> What is difference between\"==\" and \"is\" operators in Python?\n",
        "\n",
        "Answer:> In Python, the == and is operators are used for comparison, but they serve distinct purposes:\n",
        "\n",
        "== (Equality Operator):\n",
        "-Compares the values of two objects.\n",
        "-It evaluates whether the content or data held by the two objects is the same.\n",
        "-For custom classes, the behavior of == can be customized by implementing the __eq__ method.\n",
        "\n",
        "is (Identity Operator):\n",
        "-Checks for object identity, meaning it determines whether two variables point to the exact same object in memory.\n",
        "-It essentially compares the memory addresses of the objects.\n",
        "-If a is b returns True, it means a and b are references to the very same object.\n",
        "\n",
        "Key Differences Summarized:\n",
        "\n",
        "Focus:\n",
        "== focuses on value equality, while is focuses on object identity (memory location).\n",
        "\n",
        "Result Implications:\n",
        "If a is b is True, then a == b will almost always also be True (unless __eq__ is custom-implemented in an unusual way). However, if a == b is True, a is b is not necessarily True (e.g., two distinct lists with the same elements).\n",
        "\n",
        "Immutables vs. Mutables:\n",
        "For immutable objects like small integers or strings, Python often optimizes by having multiple variables refer to the same object, making is potentially return True for equal values. For mutable objects like lists or dictionaries, even if their contents are identical, they are typically distinct objects in memory unless one is explicitly assigned to the other.\n",
        "\n",
        "None Comparison:\n",
        "The is operator is the recommended way to check if a variable is None (e.g., if x is None:), as None is a singleton object."
      ],
      "metadata": {
        "id": "fmfW_DhbYz9K"
      }
    },
    {
      "cell_type": "markdown",
      "source": [
        "Question:8:> What are logical Operator in Python?\n",
        "\n",
        "Answer:> Logical operators in Python are used to combine conditional statements and perform logical operations on Boolean values (True or False). They are essential for controlling program flow and making decisions based on multiple conditions.\n",
        "\n",
        "There are three primary logical operators in Python:\n",
        "\n",
        "and operator:\n",
        "-Returns True if both operands are True.\n",
        "-Returns False if either operand is False.\n",
        "Example: (x > 5) and (y < 10) will be True only if x is greater than 5 AND y is less than 10.\n",
        "\n",
        "or operator:\n",
        "-Returns True if at least one of the operands is True.\n",
        "-Returns False only if both operands are False.\n",
        "Example: (age < 18) or (has_license) will be True if the age is less than 18 OR the person has a license (or both).\n",
        "\n",
        "not operator:\n",
        "-A unary operator that reverses the Boolean value of its operand.\n",
        "-If the operand is True, not returns False.\n",
        "-If the operand is False, not returns True.\n",
        "Example: not (is_empty) will be True if is_empty is False.\n",
        "\n",
        "These operators are commonly used in if statements, while loops, and other control flow structures to create complex conditions. Python also considers certain values as \"falsy\" (evaluating to False in a Boolean context) and \"truthy\" (evaluating to True), such as None, numeric zero, empty sequences, and empty mappings being falsy, while most other values are truthy.-"
      ],
      "metadata": {
        "id": "qvjxRvN_aeHc"
      }
    },
    {
      "cell_type": "markdown",
      "source": [
        "Question:9:> What is type casting in Python?\n",
        "\n",
        "Answer:> Type casting in Python, also known as explicit type conversion, is the process of manually converting a value from one data type to another. This is done by the programmer using built-in functions that act as \"constructor functions\" for specific data types.\n",
        "\n",
        "Common Type Casting Functions:\n",
        "\n",
        "int(): Converts a value to an integer. It can take a float (truncating the decimal part) or a string (if the string represents a valid integer).\n",
        "Python\n",
        "    x = int(3.14)  # x will be 3\n",
        "    y = int(\"100\") # y will be 100\n",
        "\n",
        "float(): Converts a value to a floating-point number. It can take an integer or a string (if the string represents a valid number).\n",
        "Python\n",
        "    a = float(5)     # a will be 5.0\n",
        "    b = float(\"2.71\") # b will be 2.71\n",
        "\n",
        "str(): Converts a value to a string. It can take numbers (integers or floats) or other data types.\n",
        "Python\n",
        "    p = str(123)    # p will be '123'\n",
        "    q = str(True)   # q will be 'True'\n",
        "\n",
        "Why use type casting?\n",
        "Type casting is essential for:\n",
        "\n",
        "Ensuring compatibility:\n",
        "When performing operations that require specific data types, like mathematical calculations or string concatenations.\n",
        "\n",
        "Data manipulation:\n",
        "Converting data into a desired format for storage, display, or further processing.\n",
        "\n",
        "Handling user input:\n",
        "Input from users is typically read as strings and often needs to be converted to numbers for calculations."
      ],
      "metadata": {
        "id": "WddRCeLPbCXy"
      }
    },
    {
      "cell_type": "markdown",
      "source": [
        "Question:10:> What is the difference between implicit and explicit type casting?\n",
        "\n",
        "Answer:> Implicit and explicit type casting (also known as type conversion) differ in how they handle the conversion of data types. Implicit casting, also called automatic type conversion, is done automatically by the compiler when different data types are mixed in an expression. Explicit casting, or type casting, is performed manually by the programmer by explicitly specifying the desired data type.\n",
        "\n",
        "Here's a more detailed explanation:\n",
        "**Implicit Type Casting:**\n",
        "Automatic:\n",
        "The compiler automatically converts data types without any explicit instructions from the programmer.\n",
        "\n",
        "Safe:\n",
        "Typically used for conversions that are considered safe and lossless, like converting a smaller integer to a larger one.\n",
        "Examples:\n",
        "Converting an int to a float in C++.\n",
        "\n",
        "Advantages:\n",
        "Convenient for compatible conversions and reduces the need for verbose code.\n",
        "\n",
        "Disadvantages:\n",
        "Can lead to unexpected results or data loss if the programmer isn't aware of the conversion rules.\n",
        "\n",
        "**Explicit Type Casting:**\n",
        "Manual:\n",
        "The programmer explicitly specifies the target data type using a cast operator (e.g., (int), (float)).\n",
        "\n",
        "Control:\n",
        "Provides fine-grained control over the conversion process and allows for conversions that might not be considered safe by the compiler.\n",
        "\n",
        "Examples:\n",
        "Converting a float to an int in C++ (which might result in loss of decimal part).\n",
        "\n",
        "Advantages:\n",
        "Offers greater precision, clarity, and control over the conversion process.\n",
        "\n",
        "Disadvantages:\n",
        "Requires more code and may lead to errors if not used carefully."
      ],
      "metadata": {
        "id": "DH2kQrGccL0A"
      }
    },
    {
      "cell_type": "markdown",
      "source": [
        "Question:11:> What is the purpose of conditional statement in Python?\n",
        "\n",
        "Answer:> The purpose of conditional statements in Python is to control the flow of a program based on whether certain conditions are true or false. These statements allow a program to make decisions and execute different blocks of code depending on the outcome of these conditions.\n",
        "\n",
        "Specifically, conditional statements:\n",
        "Enable Decision-Making:\n",
        "They allow the program to evaluate expressions and determine which path of execution to follow.\n",
        "\n",
        "Control Program Flow:\n",
        "By executing specific code blocks only when a condition is met, they dictate the order in which instructions are processed.\n",
        "\n",
        "Handle Different Scenarios:\n",
        "They allow programs to respond dynamically to various inputs or states, leading to more versatile and interactive applications.\n",
        "The primary types of conditional statements in Python are:\n",
        "\n",
        "if statement: Executes a block of code only if a given condition is true.\n",
        "\n",
        "if-else statement: Executes one block of code if a condition is true and a different block if the condition is false.\n",
        "\n",
        "if-elif-else statement: Allows for checking multiple conditions sequentially, executing the block corresponding to the first true condition, and an else block if none of the preceding conditions are met."
      ],
      "metadata": {
        "id": "6h8f2kbZeA0N"
      }
    },
    {
      "cell_type": "markdown",
      "source": [
        "Question:12:> how does the elif statement work?\n",
        "\n",
        "Answer:> elif stands for “else if”. It’s used to check multiple conditions sequentially after an initial if statement. If the first if condition is False, Python checks the elif condition(s), and runs the block for the first true condition it finds.\n",
        "\n",
        "Structure:>\n",
        "\n",
        "if condition1:\n",
        "    # runs if condition1 is True\n",
        "elif condition2:\n",
        "    # runs if condition1 is False and condition2 is True\n",
        "elif condition3:\n",
        "    # runs if condition1 and condition2 are False, but condition3 is True\n",
        "else:\n",
        "    # runs if none of the above conditions are True\n",
        "\n",
        "How It Works:>\n",
        "Python evaluates conditions top to bottom.\n",
        "\n",
        "Once a True condition is found, its block executes.\n",
        "\n",
        "Python skips the remaining elif and else blocks.\n",
        "\n",
        "If no condition is True, the else block (if present) runs.\n",
        "\n",
        "Example\n",
        "\n",
        "temperature = 75\n",
        "\n",
        "if temperature > 85:\n",
        "    print(\"It's hot outside.\")\n",
        "elif temperature > 65:\n",
        "    print(\"It's warm outside.\")\n",
        "elif temperature > 45:\n",
        "    print(\"It's cool outside.\")\n",
        "else:\n",
        "    print(\"It's cold outside.\")\n",
        "Output:\n",
        "\n",
        "It's warm outside."
      ],
      "metadata": {
        "id": "ySXjU-sEfGaM"
      }
    },
    {
      "cell_type": "markdown",
      "source": [
        "Question:13:> What is the difference between for and while loops?\n",
        "\n",
        "Answer:> The main difference between for and while loops lies in their intended use cases: for loops are typically used when you know the number of iterations beforehand, while while loops are used when the number of iterations is determined by a condition.\n",
        "\n",
        "For Loops:\n",
        "Structure: for loops are designed to iterate over a sequence (like a list, tuple, or range) or a collection of items.\n",
        "\n",
        "Iterations: The number of iterations is usually predetermined or easily calculable based on the sequence being iterated over.\n",
        "\n",
        "Example:\n",
        "    for i in range(5):\n",
        "        print(i)  # This loop will run 5 times, from 0 to 4\n",
        "\n",
        "While Loops:\n",
        "Structure: while loops execute a block of code repeatedly as long as a specified condition remains true.\n",
        "\n",
        "Iterations: The number of iterations is not fixed and depends on whether the condition remains true. A while loop can execute zero or more times.\n",
        "\n",
        "Example:\n",
        "    count = 0\n",
        "    while count < 5:\n",
        "        print(count)\n",
        "        count += 1  # Incrementing the counter to eventually make the condition false\n",
        "\n",
        "Key Differences Summarized:\n",
        "\n",
        "Known vs. Unknown Iterations:\n",
        "for loops are ideal when you know the number of times you need to loop. while loops are better when the number of iterations depends on a condition that can change during execution.\n",
        "\n",
        "Structure:\n",
        "for loops iterate over a sequence or collection. while loops continue as long as a condition is true.\n",
        "\n",
        "Readability:\n",
        "For simple, predictable iterations, for loops are often considered more readable and concise."
      ],
      "metadata": {
        "id": "lqzvsEq1gUkO"
      }
    },
    {
      "cell_type": "markdown",
      "source": [
        "Question:14:> Describe a scenario where a while loop is more suitable than for loop?\n",
        "\n",
        "Answer:> Let see the scenario where a while loop is more suitable than a for loop:\n",
        "Imagine you want to ask the user to enter a positive number, and you want to keep prompting them until they do it correctly. Since you don’t know how many times they’ll try, a while loop is perfect.\n",
        "\n",
        "Why while is better here:\n",
        "\n",
        "-You don’t know in advance how many attempts the user will take.\n",
        "-The loop runs based on a condition (valid input), not a fixed number of iterations.\n",
        "\n",
        "Example:\n",
        "\n",
        "number = -1  # start with an invalid value\n",
        "\n",
        "while number <= 0:\n",
        "    number = int(input(\"Enter a positive number: \"))\n",
        "    if number <= 0:\n",
        "        print(\"That's not a positive number. Try again!\")\n",
        "\n",
        "print(f\"Thanks! You entered {number}.\")"
      ],
      "metadata": {
        "id": "sujKQrN9hTMG"
      }
    },
    {
      "cell_type": "markdown",
      "source": [
        "**Practical Questions**"
      ],
      "metadata": {
        "id": "pyb0YGO4jBap"
      }
    },
    {
      "cell_type": "code",
      "source": [
        "#Question No:> 1 ==> Write a program to print \"Hello World!\".\n",
        "print(\"Hello, World!\")\n",
        "#"
      ],
      "metadata": {
        "colab": {
          "base_uri": "https://localhost:8080/"
        },
        "id": "P7C80AAKjLWQ",
        "outputId": "d4c8bd59-8d81-45c1-9af3-7414c08651fa"
      },
      "execution_count": null,
      "outputs": [
        {
          "output_type": "stream",
          "name": "stdout",
          "text": [
            "Hello World!\n"
          ]
        }
      ]
    },
    {
      "cell_type": "code",
      "source": [
        "#Question No:> 2 ==> Write a Python program that displays your name and age.\n",
        "name=input(\"Enter your name:\")\n",
        "age=int(input(\"Enter your age:\"))\n",
        "print(f\"Your name is {name} and your age is {age}.\")"
      ],
      "metadata": {
        "colab": {
          "base_uri": "https://localhost:8080/"
        },
        "id": "OC8GwnwEjur0",
        "outputId": "7f174e99-6abb-4fc1-8d98-24ff3316b827"
      },
      "execution_count": null,
      "outputs": [
        {
          "output_type": "stream",
          "name": "stdout",
          "text": [
            "Enter your name:amar\n",
            "Enter your age:25\n",
            "Your name is amar and your age is 25.\n"
          ]
        }
      ]
    },
    {
      "cell_type": "code",
      "source": [
        "#Question No:> 3 ==> Write code to print all the pre-defined keywords in Python using the keyword library.\n",
        "import keyword\n",
        "print(keyword.kwlist)"
      ],
      "metadata": {
        "colab": {
          "base_uri": "https://localhost:8080/"
        },
        "id": "QFHsELFln3Jv",
        "outputId": "2e99dc0c-fa3a-4e26-ca1b-13b6ac8ff965"
      },
      "execution_count": null,
      "outputs": [
        {
          "output_type": "stream",
          "name": "stdout",
          "text": [
            "['False', 'None', 'True', 'and', 'as', 'assert', 'async', 'await', 'break', 'class', 'continue', 'def', 'del', 'elif', 'else', 'except', 'finally', 'for', 'from', 'global', 'if', 'import', 'in', 'is', 'lambda', 'nonlocal', 'not', 'or', 'pass', 'raise', 'return', 'try', 'while', 'with', 'yield']\n"
          ]
        }
      ]
    },
    {
      "cell_type": "code",
      "source": [
        "#Question No:> 4 ==> write a program that checks if a given word is a Python keyword.\n",
        "import keyword\n",
        "word = input(\"Enter a word to check if it is a Python keyword: \")\n",
        "if keyword.iskeyword(word):\n",
        "    print(f\"'{word}' is a Python keyword.\")\n",
        "else:\n",
        "    print(f\"'{word}' is NOT a Python keyword.\")"
      ],
      "metadata": {
        "colab": {
          "base_uri": "https://localhost:8080/"
        },
        "id": "5GKePMrtoP6D",
        "outputId": "2795042c-5338-4d18-d3ed-be15f1e07e7c"
      },
      "execution_count": null,
      "outputs": [
        {
          "output_type": "stream",
          "name": "stdout",
          "text": [
            "Enter a word to check if it is a Python keyword: else\n",
            "'else' is a Python keyword.\n"
          ]
        }
      ]
    },
    {
      "cell_type": "code",
      "source": [
        "#Question No:> 5 ==> Create a list and tuple in Python, and demonstrate how attempting to change and element works differently.\n",
        "my_list = [10, 20, 30]\n",
        "my_tuple = (10, 20, 30)\n",
        "my_list[0] = 100\n",
        "print(\"Modified list:\", my_list)\n",
        "try:\n",
        "    my_tuple[0] = 100\n",
        "except TypeError as e:\n",
        "    print(\"Error modifying tuple:\", e)\n"
      ],
      "metadata": {
        "colab": {
          "base_uri": "https://localhost:8080/"
        },
        "id": "J_f2p1aGpK1o",
        "outputId": "c5650c7c-3d3e-4e54-b9f0-e5af9bad8ae8"
      },
      "execution_count": null,
      "outputs": [
        {
          "output_type": "stream",
          "name": "stdout",
          "text": [
            "Modified list: [100, 20, 30]\n",
            "Error modifying tuple: 'tuple' object does not support item assignment\n"
          ]
        }
      ]
    },
    {
      "cell_type": "code",
      "source": [
        "#Question No:> 6==> Write a function to demonstrate the behavior of mutable and immutable arguments.\n",
        "def modify_arguments(my_list, my_number):\n",
        "    my_list.append(100)\n",
        "    print(\"Inside function (list):\", my_list)\n",
        "\n",
        "    my_number += 10\n",
        "    print(\"Inside function (number):\", my_number)\n",
        "\n",
        "original_list = [1, 2, 3]\n",
        "original_number = 50\n",
        "\n",
        "modify_arguments(original_list, original_number)\n",
        "\n",
        "print(\"Outside function (list):\", original_list)\n",
        "print(\"Outside function (number):\", original_number)\n"
      ],
      "metadata": {
        "id": "h-Koyre2pKtC",
        "colab": {
          "base_uri": "https://localhost:8080/"
        },
        "outputId": "b1167ce8-4323-479e-d52c-ade1ab7ee1e3"
      },
      "execution_count": null,
      "outputs": [
        {
          "output_type": "stream",
          "name": "stdout",
          "text": [
            "Inside function (list): [1, 2, 3, 100]\n",
            "Inside function (number): 60\n",
            "Outside function (list): [1, 2, 3, 100]\n",
            "Outside function (number): 50\n"
          ]
        }
      ]
    },
    {
      "cell_type": "code",
      "source": [
        "#Question No:> 7==> Write a program that performs basic arithmetic operations on two user-input numbers.\n",
        "\n",
        "num1 = float(input(\"Enter the first number: \"))\n",
        "num2 = float(input(\"Enter the second number: \"))\n",
        "\n",
        "addition = num1 + num2\n",
        "subtraction = num1 - num2\n",
        "multiplication = num1 * num2\n",
        "\n",
        "if num2 != 0:\n",
        "    division = num1 / num2\n",
        "else:\n",
        "    division = \"Undefined (division by zero)\"\n",
        "\n",
        "print(\"\\nResults:\")\n",
        "print(f\"Addition: {num1} + {num2} = {addition}\")\n",
        "print(f\"Subtraction: {num1} - {num2} = {subtraction}\")\n",
        "print(f\"Multiplication: {num1} * {num2} = {multiplication}\")\n",
        "print(f\"Division: {num1} / {num2} = {division}\")\n"
      ],
      "metadata": {
        "colab": {
          "base_uri": "https://localhost:8080/"
        },
        "id": "QJiKlnNO9z7f",
        "outputId": "b6b64979-8d91-4336-d126-4f6cdcc9cba9"
      },
      "execution_count": null,
      "outputs": [
        {
          "output_type": "stream",
          "name": "stdout",
          "text": [
            "Enter the first number: 4\n",
            "Enter the second number: 5\n",
            "\n",
            "Results:\n",
            "Addition: 4.0 + 5.0 = 9.0\n",
            "Subtraction: 4.0 - 5.0 = -1.0\n",
            "Multiplication: 4.0 * 5.0 = 20.0\n",
            "Division: 4.0 / 5.0 = 0.8\n"
          ]
        }
      ]
    },
    {
      "cell_type": "code",
      "source": [
        "#Question No:> 8==>  Write a program to demonstrate the use of logical operators.\n",
        "\n",
        "username = input(\"Enter username: \")\n",
        "password = input(\"Enter password: \")\n",
        "\n",
        "if username == \"admin\" and password == \"1234\":\n",
        "    print(\"Login successful.\")\n",
        "else:\n",
        "    print(\"Invalid credentials.\")\n"
      ],
      "metadata": {
        "colab": {
          "base_uri": "https://localhost:8080/"
        },
        "id": "m9g3lc8D_CgQ",
        "outputId": "e0ca8a31-9dd5-4c32-a556-8a79c8dd115e"
      },
      "execution_count": null,
      "outputs": [
        {
          "output_type": "stream",
          "name": "stdout",
          "text": [
            "Enter username: admin\n",
            "Enter password: 12345\n",
            "Invalid credentials.\n"
          ]
        }
      ]
    },
    {
      "cell_type": "code",
      "source": [
        "#Question No:> 9==>   Write a Python program to convert user input from string to integer, float, and boolean types.\n",
        "3\n",
        "user_input = input(\"Enter a value: \")\n",
        "\n",
        "try:\n",
        "    int_value = int(user_input)\n",
        "    print(f\"Integer value: {int_value}\")\n",
        "except ValueError:\n",
        "    print(\"Cannot convert to integer.\")\n",
        "\n",
        "try:\n",
        "    float_value = float(user_input)\n",
        "    print(f\"Float value: {float_value}\")\n",
        "except ValueError:\n",
        "    print(\"Cannot convert to float.\")\n",
        "\n",
        "bool_value = bool(user_input)\n",
        "print(f\"Boolean value: {bool_value}\")\n"
      ],
      "metadata": {
        "colab": {
          "base_uri": "https://localhost:8080/"
        },
        "id": "1UpCAc14_7yP",
        "outputId": "6959f6c1-e0cf-4b21-b66a-2cf84ffd75c4"
      },
      "execution_count": null,
      "outputs": [
        {
          "output_type": "stream",
          "name": "stdout",
          "text": [
            "Enter a value: 5\n",
            "Integer value: 5\n",
            "Float value: 5.0\n",
            "Boolean value: True\n"
          ]
        }
      ]
    },
    {
      "cell_type": "code",
      "source": [
        "#Question No:> 10==>  Write code to demonstrate type casting with list elements.\n",
        "\n",
        "values = [\"3.14\", \"2.71\", \"hello\", \"9.8\"]\n",
        "\n",
        "float_values = []\n",
        "for val in values:\n",
        "    try:\n",
        "        float_values.append(float(val))\n",
        "    except ValueError:\n",
        "        float_values.append(None)\n",
        "print(\"Safely converted to floats:\", float_values)\n"
      ],
      "metadata": {
        "colab": {
          "base_uri": "https://localhost:8080/"
        },
        "id": "MAasnrywArz1",
        "outputId": "dfd839ce-3950-457a-8046-71821c61178f"
      },
      "execution_count": null,
      "outputs": [
        {
          "output_type": "stream",
          "name": "stdout",
          "text": [
            "Safely converted to floats: [3.14, 2.71, None, 9.8]\n"
          ]
        }
      ]
    },
    {
      "cell_type": "code",
      "source": [
        "#Question No:> 11==>  Write a program that checks if a number is positive, negative, or zero.\n",
        "\n",
        "num = float(input(\"Enter a number: \"))\n",
        "\n",
        "if num > 0:\n",
        "    print(\"The number is positive.\")\n",
        "elif num < 0:\n",
        "    print(\"The number is negative.\")\n",
        "else:\n",
        "    print(\"The number is zero.\")\n"
      ],
      "metadata": {
        "colab": {
          "base_uri": "https://localhost:8080/"
        },
        "id": "U13SIMCGBoYT",
        "outputId": "50da3378-1f75-480a-a6b8-3ca08a17ea40"
      },
      "execution_count": null,
      "outputs": [
        {
          "output_type": "stream",
          "name": "stdout",
          "text": [
            "Enter a number: 4\n",
            "The number is positive.\n"
          ]
        }
      ]
    },
    {
      "cell_type": "code",
      "source": [
        "#Question No:> 12==> Write a for loop to print numbers from 1 to 10.\n",
        "\n",
        "for i in range(1, 11):\n",
        "    print(i)\n"
      ],
      "metadata": {
        "colab": {
          "base_uri": "https://localhost:8080/"
        },
        "id": "XIVF2G7aCAI6",
        "outputId": "fc5c3df8-7f40-42a2-a52f-42139f845023"
      },
      "execution_count": null,
      "outputs": [
        {
          "output_type": "stream",
          "name": "stdout",
          "text": [
            "1\n",
            "2\n",
            "3\n",
            "4\n",
            "5\n",
            "6\n",
            "7\n",
            "8\n",
            "9\n",
            "10\n"
          ]
        }
      ]
    },
    {
      "cell_type": "code",
      "source": [
        "#Question No:> 13==>  Write a Python program to find the sum of all even numbers between 1 and 50.\n",
        "\n",
        "total = 0\n",
        "\n",
        "for num in range(2, 51, 2):\n",
        "    total += num\n",
        "\n",
        "print(\"Sum of even numbers between 1 and 50 is:\", total)"
      ],
      "metadata": {
        "colab": {
          "base_uri": "https://localhost:8080/"
        },
        "id": "tPMjTzUhCTkG",
        "outputId": "c6470b68-0090-48a6-a322-1fdb36fd3157"
      },
      "execution_count": null,
      "outputs": [
        {
          "output_type": "stream",
          "name": "stdout",
          "text": [
            "Sum of even numbers between 1 and 50 is: 650\n"
          ]
        }
      ]
    },
    {
      "cell_type": "code",
      "source": [
        "#Question No:> 14==> Write a program to reverse a string using a while loop.\n",
        "\n",
        "input_str = input(\"Enter a string: \")\n",
        "\n",
        "reversed_str = \"\"\n",
        "index = len(input_str) - 1\n",
        "\n",
        "while index >= 0:\n",
        "    reversed_str += input_str[index]\n",
        "    index -= 1\n",
        "\n",
        "print(\"Reversed string:\", reversed_str)"
      ],
      "metadata": {
        "colab": {
          "base_uri": "https://localhost:8080/"
        },
        "id": "DR6LY4kpCbaW",
        "outputId": "f443a796-19d1-4bc7-8c10-39f63e71e156"
      },
      "execution_count": null,
      "outputs": [
        {
          "output_type": "stream",
          "name": "stdout",
          "text": [
            "Enter a string: ram\n",
            "Reversed string: mar\n"
          ]
        }
      ]
    },
    {
      "cell_type": "code",
      "source": [
        "#Question No:> 15==>  Write a Python program to calculate the factorial of a number provided by the user using a while loop.\n",
        "\n",
        "num = int(input(\"Enter a non-negative integer: \"))\n",
        "\n",
        "if num < 0:\n",
        "    print(\"Factorial is not defined for negative numbers.\")\n",
        "else:\n",
        "    factorial = 1\n",
        "    i = 1\n",
        "    while i <= num:\n",
        "        factorial *= i\n",
        "        i += 1\n",
        "    print(f\"Factorial of {num} is {factorial}\")"
      ],
      "metadata": {
        "colab": {
          "base_uri": "https://localhost:8080/"
        },
        "id": "ZWSIiB7SDCrp",
        "outputId": "e2b9ee39-e79d-4dd8-f009-efe1baf61e65"
      },
      "execution_count": null,
      "outputs": [
        {
          "output_type": "stream",
          "name": "stdout",
          "text": [
            "Enter a non-negative integer: 3\n",
            "Factorial of 3 is 6\n"
          ]
        }
      ]
    }
  ]
}